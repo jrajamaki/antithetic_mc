{
 "cells": [
  {
   "cell_type": "markdown",
   "metadata": {},
   "source": [
    "# TTA-45046 Financial Engineering\n",
    "## Project Work 2017"
   ]
  },
  {
   "cell_type": "markdown",
   "metadata": {},
   "source": [
    "This project work is about pricing OP Pohjola structured instrument OP Nokia Call 3/2017. The terms of the contract are presented here: [OP Nokia Call 3/2017 Terms](https://uusi.op.fi/documents/20556/9985268/Lainaehdot+3+2017/74468110-5085-4496-bbdc-87e759dd3317) in Finnish.\n",
    "\n",
    "In short objective of the project work is to price above mentioned derivate using Monte Carlo simulating with antithetic varies. The underlying asset is Euro-nominated Nokia stock in Helsinki Stock Exchange. Rest of the details can be found on this notebook."
   ]
  },
  {
   "cell_type": "code",
   "execution_count": 1,
   "metadata": {
    "collapsed": false
   },
   "outputs": [],
   "source": [
    "# Import libraries\n",
    "import pandas as pd\n",
    "import numpy as np\n",
    "import datetime as dt\n",
    "from __future__ import division # Python 3 like division behaviour, easier to get floats\n",
    "\n",
    "# For plotting\n",
    "import matplotlib.pyplot as plt\n",
    "%matplotlib inline\n",
    "\n",
    "# For data wrangling\n",
    "import requests\n",
    "from bs4 import BeautifulSoup\n",
    "\n",
    "# Set constants\n",
    "TRADING_DAYS = 252 # in a year\n",
    "MATURITY = dt.datetime(2020, 4, 3) # contract's termination day"
   ]
  },
  {
   "cell_type": "markdown",
   "metadata": {},
   "source": [
    "Pretending that we're doing this valuation on the effective date 15th of March 2017."
   ]
  },
  {
   "cell_type": "code",
   "execution_count": 2,
   "metadata": {
    "collapsed": false
   },
   "outputs": [],
   "source": [
    "today = dt.datetime(2017, 3, 15)"
   ]
  },
  {
   "cell_type": "markdown",
   "metadata": {},
   "source": [
    "## Estimating parameters\n",
    "\n",
    "Most of the general parameters are already given, only asset specific parameters, like volatility, dividend yield and dividend distribution date needs to be estimated."
   ]
  },
  {
   "cell_type": "markdown",
   "metadata": {},
   "source": [
    "I'll load the Nokia stock information from Nasdaq OMX homepage to estimate volatility. The file is already downloaded to the working directory and the name is 'NOKIA-2016-03-15-2017-03-15.csv'."
   ]
  },
  {
   "cell_type": "code",
   "execution_count": 3,
   "metadata": {
    "collapsed": false
   },
   "outputs": [
    {
     "data": {
      "text/html": [
       "<div>\n",
       "<table border=\"1\" class=\"dataframe\">\n",
       "  <thead>\n",
       "    <tr style=\"text-align: right;\">\n",
       "      <th></th>\n",
       "      <th>Date</th>\n",
       "      <th>Bid</th>\n",
       "      <th>Ask</th>\n",
       "      <th>Opening price</th>\n",
       "      <th>High price</th>\n",
       "      <th>Low price</th>\n",
       "      <th>Closing price</th>\n",
       "      <th>Average price</th>\n",
       "      <th>Total volume</th>\n",
       "      <th>Turnover</th>\n",
       "      <th>Trades</th>\n",
       "    </tr>\n",
       "  </thead>\n",
       "  <tbody>\n",
       "    <tr>\n",
       "      <th>0</th>\n",
       "      <td>2017-03-15</td>\n",
       "      <td>4.98</td>\n",
       "      <td>4.99</td>\n",
       "      <td>4.98</td>\n",
       "      <td>5.01</td>\n",
       "      <td>4.97</td>\n",
       "      <td>4.99</td>\n",
       "      <td>4.99</td>\n",
       "      <td>13217726</td>\n",
       "      <td>65936757.39</td>\n",
       "      <td>6887</td>\n",
       "    </tr>\n",
       "    <tr>\n",
       "      <th>1</th>\n",
       "      <td>2017-03-14</td>\n",
       "      <td>4.98</td>\n",
       "      <td>4.98</td>\n",
       "      <td>5.00</td>\n",
       "      <td>5.01</td>\n",
       "      <td>4.96</td>\n",
       "      <td>4.98</td>\n",
       "      <td>4.98</td>\n",
       "      <td>13052841</td>\n",
       "      <td>65047032.05</td>\n",
       "      <td>7042</td>\n",
       "    </tr>\n",
       "    <tr>\n",
       "      <th>2</th>\n",
       "      <td>2017-03-13</td>\n",
       "      <td>4.99</td>\n",
       "      <td>4.99</td>\n",
       "      <td>5.00</td>\n",
       "      <td>5.01</td>\n",
       "      <td>4.98</td>\n",
       "      <td>5.00</td>\n",
       "      <td>4.99</td>\n",
       "      <td>11870070</td>\n",
       "      <td>59276069.25</td>\n",
       "      <td>5955</td>\n",
       "    </tr>\n",
       "    <tr>\n",
       "      <th>3</th>\n",
       "      <td>2017-03-10</td>\n",
       "      <td>4.99</td>\n",
       "      <td>4.99</td>\n",
       "      <td>4.96</td>\n",
       "      <td>5.01</td>\n",
       "      <td>4.94</td>\n",
       "      <td>4.99</td>\n",
       "      <td>4.99</td>\n",
       "      <td>15236854</td>\n",
       "      <td>75965143.28</td>\n",
       "      <td>8136</td>\n",
       "    </tr>\n",
       "    <tr>\n",
       "      <th>4</th>\n",
       "      <td>2017-03-09</td>\n",
       "      <td>4.95</td>\n",
       "      <td>4.96</td>\n",
       "      <td>4.88</td>\n",
       "      <td>4.97</td>\n",
       "      <td>4.87</td>\n",
       "      <td>4.95</td>\n",
       "      <td>4.94</td>\n",
       "      <td>18054074</td>\n",
       "      <td>89143715.03</td>\n",
       "      <td>8775</td>\n",
       "    </tr>\n",
       "  </tbody>\n",
       "</table>\n",
       "</div>"
      ],
      "text/plain": [
       "        Date   Bid   Ask  Opening price  High price  Low price  Closing price  \\\n",
       "0 2017-03-15  4.98  4.99           4.98        5.01       4.97           4.99   \n",
       "1 2017-03-14  4.98  4.98           5.00        5.01       4.96           4.98   \n",
       "2 2017-03-13  4.99  4.99           5.00        5.01       4.98           5.00   \n",
       "3 2017-03-10  4.99  4.99           4.96        5.01       4.94           4.99   \n",
       "4 2017-03-09  4.95  4.96           4.88        4.97       4.87           4.95   \n",
       "\n",
       "   Average price  Total volume     Turnover  Trades  \n",
       "0           4.99      13217726  65936757.39    6887  \n",
       "1           4.98      13052841  65047032.05    7042  \n",
       "2           4.99      11870070  59276069.25    5955  \n",
       "3           4.99      15236854  75965143.28    8136  \n",
       "4           4.94      18054074  89143715.03    8775  "
      ]
     },
     "execution_count": 3,
     "metadata": {},
     "output_type": "execute_result"
    }
   ],
   "source": [
    "df = pd.read_csv('NOKIA-2016-03-15-2017-03-15.csv', sep=';', decimal=',')\n",
    "df['Date'] = pd.to_datetime(df['Date'])\n",
    "df.head()"
   ]
  },
  {
   "cell_type": "markdown",
   "metadata": {},
   "source": [
    "Estimate the stock volatility of log prices for the underlying asset."
   ]
  },
  {
   "cell_type": "code",
   "execution_count": 4,
   "metadata": {
    "collapsed": false
   },
   "outputs": [
    {
     "name": "stdout",
     "output_type": "stream",
     "text": [
      "Nokia stock volatility in the time period 15-03-2016 - 15-03-2017: 0.314821472072\n"
     ]
    }
   ],
   "source": [
    "daily_log_returns = np.log(1 + df['Closing price'].pct_change())\n",
    "sigma = daily_log_returns.std() / np.sqrt(1 / TRADING_DAYS)\n",
    "print 'Nokia stock volatility in the time period 15-03-2016 - 15-03-2017:', sigma"
   ]
  },
  {
   "cell_type": "markdown",
   "metadata": {},
   "source": [
    "To estimate Nokia's dividend information, I will get the information from Kauppalehti web page, but it's quite slow so the request for HTML data is placed into seperate cell."
   ]
  },
  {
   "cell_type": "code",
   "execution_count": 5,
   "metadata": {
    "collapsed": false
   },
   "outputs": [],
   "source": [
    "url = 'https://www.kauppalehti.fi/5/i/porssi/osingot/osinkohistoria.jsp?klid=1050'\n",
    "r = requests.get(url)"
   ]
  },
  {
   "cell_type": "markdown",
   "metadata": {},
   "source": [
    "Then I will parse all the data into a pandas dataframe. I used this post  http://stackoverflow.com/questions/23377533/python-beautifulsoup-parsing-table as a guide."
   ]
  },
  {
   "cell_type": "code",
   "execution_count": 6,
   "metadata": {
    "collapsed": false
   },
   "outputs": [
    {
     "data": {
      "text/html": [
       "<div>\n",
       "<table border=\"1\" class=\"dataframe\">\n",
       "  <thead>\n",
       "    <tr style=\"text-align: right;\">\n",
       "      <th></th>\n",
       "      <th>year</th>\n",
       "      <th>date</th>\n",
       "      <th>adjusted_eur</th>\n",
       "      <th>amount</th>\n",
       "      <th>currency</th>\n",
       "      <th>yield</th>\n",
       "    </tr>\n",
       "  </thead>\n",
       "  <tbody>\n",
       "    <tr>\n",
       "      <th>0</th>\n",
       "      <td>2017</td>\n",
       "      <td>2017-05-24</td>\n",
       "      <td>0.17</td>\n",
       "      <td>0.17</td>\n",
       "      <td>EUR</td>\n",
       "      <td>3.4</td>\n",
       "    </tr>\n",
       "    <tr>\n",
       "      <th>1</th>\n",
       "      <td>2016</td>\n",
       "      <td>2016-06-17</td>\n",
       "      <td>0.26</td>\n",
       "      <td>0.26</td>\n",
       "      <td>EUR</td>\n",
       "      <td>5.1</td>\n",
       "    </tr>\n",
       "    <tr>\n",
       "      <th>2</th>\n",
       "      <td>2015</td>\n",
       "      <td>2015-06-05</td>\n",
       "      <td>0.14</td>\n",
       "      <td>0.14</td>\n",
       "      <td>EUR</td>\n",
       "      <td>2.4</td>\n",
       "    </tr>\n",
       "    <tr>\n",
       "      <th>3</th>\n",
       "      <td>2014</td>\n",
       "      <td>2014-06-18</td>\n",
       "      <td>0.37</td>\n",
       "      <td>0.37</td>\n",
       "      <td>EUR</td>\n",
       "      <td>6.3</td>\n",
       "    </tr>\n",
       "    <tr>\n",
       "      <th>4</th>\n",
       "      <td>2013</td>\n",
       "      <td>2013-08-05</td>\n",
       "      <td>0.00</td>\n",
       "      <td>0.00</td>\n",
       "      <td>EUR</td>\n",
       "      <td>0.0</td>\n",
       "    </tr>\n",
       "  </tbody>\n",
       "</table>\n",
       "</div>"
      ],
      "text/plain": [
       "   year       date  adjusted_eur  amount currency  yield\n",
       "0  2017 2017-05-24          0.17    0.17      EUR    3.4\n",
       "1  2016 2016-06-17          0.26    0.26      EUR    5.1\n",
       "2  2015 2015-06-05          0.14    0.14      EUR    2.4\n",
       "3  2014 2014-06-18          0.37    0.37      EUR    6.3\n",
       "4  2013 2013-08-05          0.00    0.00      EUR    0.0"
      ]
     },
     "execution_count": 6,
     "metadata": {},
     "output_type": "execute_result"
    }
   ],
   "source": [
    "# Parse data\n",
    "data = []\n",
    "soup = BeautifulSoup(r.content, 'lxml')\n",
    "table = soup.find_all('table', attrs={'class':'table_stockexchange'})\n",
    "rows = table[1].find_all('tr')\n",
    "for row in rows:\n",
    "    cols = row.find_all('td')\n",
    "    cols = [ele.text.strip() for ele in cols]\n",
    "    data.append([ele for ele in cols if ele])\n",
    "\n",
    "# Set data into pandas dataframe\n",
    "headers = ['year', 'date', 'adjusted_eur', 'amount', 'currency', 'yield']\n",
    "df_dividend = pd.DataFrame.from_records(data[1:], columns=headers)\n",
    "\n",
    "# Fix the data types\n",
    "df_dividend['year'] = df_dividend['year'].astype(str).astype(int)\n",
    "df_dividend['date'] = pd.to_datetime(df_dividend['date'])\n",
    "for feature in ['adjusted_eur', 'amount', 'yield']:\n",
    "    df_dividend[feature] = df_dividend[feature].astype(str).astype(float)\n",
    "\n",
    "df_dividend.head()"
   ]
  },
  {
   "cell_type": "markdown",
   "metadata": {},
   "source": [
    "First I estimate the dividend yield of Nokia stock. According to the project work instructions one should use last five years data to estimate the dividend yield."
   ]
  },
  {
   "cell_type": "code",
   "execution_count": 7,
   "metadata": {
    "collapsed": false
   },
   "outputs": [
    {
     "name": "stdout",
     "output_type": "stream",
     "text": [
      "The mean of Nokia stock dividend yield during the last five years: 3.44\n"
     ]
    }
   ],
   "source": [
    "estimation_period = 5\n",
    "div_yield = df_dividend['yield'][:estimation_period].mean()\n",
    "print 'The mean of Nokia stock dividend yield during the last five years:', div_yield"
   ]
  },
  {
   "cell_type": "markdown",
   "metadata": {},
   "source": [
    "Next I will estimate the dividend paying date by taking the mean dividend distribution date of last five years. Then calculate future dividend distribution dates during the maturity of the derivative contract. I am still using the five-year estimation period for the date calculations."
   ]
  },
  {
   "cell_type": "code",
   "execution_count": 8,
   "metadata": {
    "collapsed": false
   },
   "outputs": [
    {
     "name": "stdout",
     "output_type": "stream",
     "text": [
      "Estimated dividend paying dates: ['20.06.2017', '20.06.2018', '20.06.2019']\n"
     ]
    }
   ],
   "source": [
    "years = pd.to_datetime(df_dividend['year'], format='%Y')\n",
    "mean_dividend_date = (df_dividend['date'][:estimation_period] - years[:estimation_period]).mean()\n",
    "\n",
    "dividend_dates = [dt.datetime(year, 1, 1) + mean_dividend_date for year in range(2017, 2020)]\n",
    "print 'Estimated dividend paying dates:', [date.strftime('%d.%m.%Y') for date in dividend_dates]"
   ]
  },
  {
   "cell_type": "markdown",
   "metadata": {},
   "source": [
    "Then I will change these dates into linear time, the effective day as the starting point. Since the dates are estimated as calendar days so I will divide by whole calendar year (365 days, thank god no leap year in the time period), not by amount of trading days."
   ]
  },
  {
   "cell_type": "code",
   "execution_count": 9,
   "metadata": {
    "collapsed": false
   },
   "outputs": [
    {
     "name": "stdout",
     "output_type": "stream",
     "text": [
      "In linear time dividends are distributed at the following times: [ 0.26575342  1.26575342  2.26575342]\n"
     ]
    }
   ],
   "source": [
    "div_dates = np.array([(date - today).days for date in dividend_dates]) / 365\n",
    "print 'In linear time dividends are distributed at the following times:', div_dates"
   ]
  },
  {
   "cell_type": "markdown",
   "metadata": {},
   "source": [
    "Now I will set the rest parameters given in the project work instructions document."
   ]
  },
  {
   "cell_type": "code",
   "execution_count": 10,
   "metadata": {
    "collapsed": false
   },
   "outputs": [],
   "source": [
    "notional_amount = 1000\n",
    "fixed_rate = 0.084\n",
    "barrier = -0.30\n",
    "rf = 0.001 # risk-free rate\n",
    "n_sim = int(1e6)\n",
    "\n",
    "# These dates are in linear times from the effective date\n",
    "obs_dates = np.array([6/12 - 1/252, 1 - 2/252, 1 + 6/12 - 1/252, 2, 2 + 6/12 + 1/252, 3 + 2/252])\n",
    "pay_dates = np.array([6/12 + 12/252, 1 + 12/252, 1 + 6/12 + 12/252, 2 + 12/252, 2 + 6/12 + 12/252, 3 + 12/252])\n",
    "\n",
    "S0 = df['Closing price'][0] # Inial asset price\n",
    "TIMESTEPS = len(obs_dates)"
   ]
  },
  {
   "cell_type": "markdown",
   "metadata": {},
   "source": [
    "## Stock price process with dividends\n",
    "\n",
    "Stock price process follows geometric brownian motion\n",
    "\n",
    "$$ S_{t+ \\Delta t} = S_t \\times\\ e^{(r - \\frac{1}{2} \\sigma^2)\\Delta t  + \\sigma \\sqrt{\\Delta t} \\epsilon_t }.$$\n",
    "\n",
    "But there is also need to adjust stock price process for dividends as of follows\n",
    "\n",
    "$$ S^*_{τ_i} = S_{τ_i} - e^{-r (T_{div_{τ_i;\\\\τ_{i+1}}} - τ_i) }\\ \\times Q_{τ_i;τ_{i+1}},$$ \n",
    "\n",
    "where $S^*$ is dividend adjusted stock price, $T_{div_{τ_i;\\\\τ_{i+1}}}$ dividend distribution time and $Q_{τ_i;τ_{i+1}}$ is the amount of dividend. In the instructions it is proposed to first check the early termination condition at the initial step, then adjust possible dividend and finally calculate stock price at the next step. \n",
    "\n",
    "However, because of vectorization I first simulate the stock prices paths without dividends and I need to adjust the dividends.\n",
    "\n",
    "$$ S_{t+ \\Delta t} = S_t^* \\times\\ e^{(r - \\frac{1}{2} \\sigma^2)\\Delta t  + \\sigma \\sqrt{\\Delta t} \\epsilon_t }, $$\n",
    "\n",
    "where we apply initial geometric brownian motion.\n",
    "\n",
    "$$ S^*_{t_i+ \\Delta t} = \n",
    "    (S_{τ_i} \n",
    "    - e^{-r (T_{div_{τ_i;\\\\τ_{i+1}}} - τ_i)}\\ \n",
    "        \\times Q_{τ_i;\\\\τ_{i+1}}) \n",
    "    \\times\\ e^{(r - \\frac{1}{2} \\sigma^2)\\Delta t  + \\sigma \\sqrt{\\Delta t} \\epsilon_{t_i} }$$\n",
    "\n",
    "$$\n",
    "S^*_{t_i+ \\Delta t} = \n",
    "    S_{τ_i} \n",
    "        \\times\\ e^{(r - \\frac{1}{2} \\sigma)\\Delta t  + \\sigma \\sqrt{\\Delta t} \\epsilon_{t_i}}\n",
    "    - e^{-r (T_{div_{τ_i;\\\\τ_{i+1}}} - τ_i)}\\ \n",
    "        \\times\\ e^{(r - \\frac{1}{2} \\sigma)\\Delta t  + \\sigma \\sqrt{\\Delta t} \\epsilon_{t_i}}\n",
    "        \\times Q_{τ_i;\\\\τ_{i+1}},\n",
    "$$\n",
    "\n",
    "where $S_{τ_i}e^{(r - \\frac{1}{2} \\sigma)\\Delta t  + \\sigma \\sqrt{\\Delta t} \\epsilon_{t_i}}$ is the original geometric brownian motion. Consequently,\n",
    "\n",
    "$$\n",
    "S^*_{t_i+ \\Delta t} = \n",
    "    S_{t+ \\Delta t}\n",
    "    - e^{-r (T_{div_{τ_i;\\\\τ_{i+1}}} - τ_i)}\\  \n",
    "        \\times\\ e^{(r - \\frac{1}{2} \\sigma)\\Delta t  + \\sigma \\sqrt{\\Delta t} \\epsilon_{t_i}}\n",
    "        \\times Q_{τ_i;\\\\τ_{i+1}}\n",
    "$$\n",
    "\n",
    "there is need first to discount the amount of dividend to previous observation date and then apply the diffusion process, however as stock price is also simulated at dividend distribution dates discounting is not necessary, thus finally \n",
    "\n",
    "$$\n",
    "S^*_{t_i+ \\Delta t} = \n",
    "    S_{t+\\Delta t}\n",
    "    - e^{(r - \\frac{1}{2} \\sigma)\\Delta t  + \\sigma \\sqrt{\\Delta t} \\epsilon_{t_i}}\n",
    "        \\times Q_{τ}\n",
    "$$\n",
    "\n",
    "In brief I need to make same kind of diffusion process for dividends from distribution date onwards and subtract the amount of dividend in the future dates."
   ]
  },
  {
   "cell_type": "code",
   "execution_count": 11,
   "metadata": {
    "collapsed": false
   },
   "outputs": [],
   "source": [
    "def simulate_stock_price_paths(S0, sigma, obs_dates, div_dates, div_yield, rf, n_sim):\n",
    "    \n",
    "    # Linear time difference between each date\n",
    "    all_dates = np.hstack((0, np.hstack((div_dates, obs_dates))))\n",
    "    all_dates = np.sort(all_dates)\n",
    "    dT = np.diff(all_dates)\n",
    "\n",
    "    # Generate the random variables (stock price pathes are vertical, simulations horizontal)\n",
    "    eps = np.random.randn(n_sim, len(dT))\n",
    "\n",
    "    # Traditional Monte Carlo stock price paths\n",
    "    Xt = (rf - 0.5 * sigma ** 2) * dT + sigma * np.sqrt(dT) * eps\n",
    "    Xt = np.hstack((np.zeros((n_sim, 1)), np.cumsum(Xt, axis=1)))\n",
    "    St = (S0 * np.exp(Xt))\n",
    "\n",
    "    # Antithetic Monte Carlo stock price paths\n",
    "    Xt_at = (rf - 0.5 * sigma ** 2) * dT - sigma * np.sqrt(dT) * eps\n",
    "    Xt_at = np.hstack((np.zeros((n_sim, 1)), np.cumsum(Xt_at, axis=1)))\n",
    "    St_at = S0 * np.exp(Xt_at)\n",
    "\n",
    "    # Adjusting for dividends\n",
    "    for div_date in div_dates:\n",
    "\n",
    "        # Find out correct time in terms of all dates\n",
    "        index = (np.where( all_dates == div_date))[0][0]\n",
    "  \n",
    "        # Amount of distributed dividend\n",
    "        Q = St[:,index] * div_yield / 100 \n",
    "\n",
    "        # Apply dividends to the stock price processes\n",
    "        Xt_temp = (Xt.T - Xt[:,index]).T # diffusion process from dividend date onwards\n",
    "        Qt = (Q * np.exp(Xt_temp[:,index:]).T).T # dividend's price process\n",
    "        St[:,index:] -= Qt\n",
    "\n",
    "        # And the same adjustment for antithetic paths\n",
    "        Xt_at_temp = (Xt_at.T - Xt_at[:,index]).T\n",
    "        Q_at = St_at[:,index] * div_yield / 100\n",
    "        Qt_at = (Q_at * np.exp(Xt_at_temp[:,index:]).T).T\n",
    "        St_at[:,index:] -= Qt_at\n",
    "\n",
    "    \n",
    "    # Mask to filter out dividend dates from stock price process\n",
    "    div_mask = np.in1d(all_dates, div_dates)\n",
    "\n",
    "    return St[:,~div_mask], St_at[:,~div_mask]"
   ]
  },
  {
   "cell_type": "markdown",
   "metadata": {},
   "source": [
    "## Pricing\n"
   ]
  },
  {
   "cell_type": "markdown",
   "metadata": {},
   "source": [
    "According to instructions contract will early terminate in case stock price is greater than stock price at t=0 at any observation date, otherwise contract terminate at maturity. This function returns the correct period when contract will terminate given stock price path."
   ]
  },
  {
   "cell_type": "code",
   "execution_count": 12,
   "metadata": {
    "collapsed": false
   },
   "outputs": [],
   "source": [
    "def determine_termination_period(St):\n",
    "    for i in range(1, TIMESTEPS):\n",
    "        if St[i] >= St[0]:\n",
    "            return int(i)\n",
    "    return int(TIMESTEPS) # no early termination"
   ]
  },
  {
   "cell_type": "markdown",
   "metadata": {},
   "source": [
    "This function determines coefficient for the payoff at the maturity (no early termination). Coefficient is used later to calculate contract's payoff at the maturity."
   ]
  },
  {
   "cell_type": "code",
   "execution_count": 13,
   "metadata": {
    "collapsed": false
   },
   "outputs": [],
   "source": [
    "def maturity_termination_coefficient(St, barrier, fixed_rate):\n",
    "    \n",
    "    coefficient = (St[-1] / St[0]) - 1\n",
    "\n",
    "    # Stock price finally is higher than initial stock price\n",
    "    if coefficient >= 0:\n",
    "        return (1 + TIMESTEPS * fixed_rate)\n",
    "    \n",
    "    # Stock price less than initial stock price but coefficient is higher than the given barrier\n",
    "    elif coefficient >= barrier:\n",
    "        return 1\n",
    "    \n",
    "    # Stock price at maturity / initial stock price coefficient is less than the given barrier\n",
    "    else:\n",
    "        return (coefficient + 1)"
   ]
  },
  {
   "cell_type": "markdown",
   "metadata": {},
   "source": [
    "This function calculates the payoff of the structured instrument given the stock price path taking into account different termination periods."
   ]
  },
  {
   "cell_type": "code",
   "execution_count": 14,
   "metadata": {
    "collapsed": false
   },
   "outputs": [],
   "source": [
    "def calculate_payoff(St, pay_dates, fixed_rate, barrier, notional_amount, rf):\n",
    "\n",
    "    # Determine stock price path's termination period\n",
    "    termination_period = determine_termination_period(St)\n",
    "    \n",
    "    # Payoff at maturity\n",
    "    if termination_period == TIMESTEPS:\n",
    "        payoff = notional_amount * maturity_termination_coefficient(St, barrier, fixed_rate)\n",
    "   \n",
    "    # Early termination\n",
    "    else:\n",
    "        payoff = notional_amount * (1 + termination_period * fixed_rate)\n",
    "\n",
    "    dT = pay_dates[termination_period - 1]\n",
    "\n",
    "    return np.exp(-rf * dT) * payoff"
   ]
  },
  {
   "cell_type": "markdown",
   "metadata": {},
   "source": [
    "Function to run the pricing algorithm.\n",
    "\n",
    "The function returns n_sim amount of prices, both using antithetic variates and only traditional Monte Carlo methods."
   ]
  },
  {
   "cell_type": "code",
   "execution_count": 20,
   "metadata": {
    "collapsed": false
   },
   "outputs": [
    {
     "name": "stdout",
     "output_type": "stream",
     "text": [
      "\n"
     ]
    }
   ],
   "source": [
    "def price_derivative(S0, sigma, obs_dates, pay_dates, div_dates, div_yield, barrier, fixed_rate, \n",
    "                     notional_amount, rf, n_sim):\n",
    "    \n",
    "    # Simulate dividend-adjusted stock price paths\n",
    "    St, St_at = simulate_stock_price_paths(S0, sigma, obs_dates, div_dates, div_yield, rf, n_sim)\n",
    "    \n",
    "    prices = np.zeros(n_sim)\n",
    "    prices_at = np.zeros(n_sim)\n",
    "\n",
    "    # Apply pricing algorithm for each stock price path\n",
    "    for i in range(n_sim):\n",
    "        prices[i] = calculate_payoff(St[i], pay_dates, fixed_rate, barrier, notional_amount, rf)\n",
    "        prices_at[i] = calculate_payoff(St_at[i], pay_dates, fixed_rate, barrier, notional_amount, rf)\n",
    "    \n",
    "    prices_at = (prices_at + prices) / 2\n",
    "        \n",
    "    return prices_at, prices"
   ]
  },
  {
   "cell_type": "code",
   "execution_count": 23,
   "metadata": {
    "collapsed": false
   },
   "outputs": [
    {
     "name": "stdout",
     "output_type": "stream",
     "text": [
      "\n"
     ]
    }
   ],
   "source": [
    "#%%timeit\n",
    "prices_at, prices = price_derivative(S0, sigma, obs_dates, pay_dates, div_dates, div_yield, \n",
    "                                      barrier, fixed_rate, notional_amount, rf, n_sim)"
   ]
  },
  {
   "cell_type": "markdown",
   "metadata": {},
   "source": [
    "For 1,000,000 simulations function takes around 16 seconds to run, which is not unbearable as the derivative does not need to be priced in real time during trading. \n",
    "\n",
    "Stock price process is vectorized and only takes few seconds seconds to run. The problematic part is the pricing algorithm as it is applied per stock price path both for traditional Monte Carlo path and antithetic Monte Carlo path. Furthermore *determine_termination_period* function has to check every observation point. It might not matter significantly now that there are only six observation dates, but if there would be more observation dates it would slow down algorithm greatly.  "
   ]
  },
  {
   "cell_type": "markdown",
   "metadata": {},
   "source": [
    "## Results"
   ]
  },
  {
   "cell_type": "code",
   "execution_count": 24,
   "metadata": {
    "collapsed": false
   },
   "outputs": [
    {
     "name": "stdout",
     "output_type": "stream",
     "text": [
      "Using traditional Monte Carlo methods\n",
      "Mean of derivative price: 948.579518805\n",
      "Std of derivative price: 321.24431713\n",
      "\n",
      "Using Antithetic Monte Carlo methods\n",
      "Mean of derivative price: 948.501924046\n",
      "Std of derivative price: 195.365686553\n"
     ]
    },
    {
     "data": {
      "image/png": "[encoded data removed]",
      "text/plain": [
       "<matplotlib.figure.Figure at 0x7f293ab81990>"
      ]
     },
     "metadata": {},
     "output_type": "display_data"
    }
   ],
   "source": [
    "print 'Using traditional Monte Carlo methods'\n",
    "print 'Mean of derivative price:', prices.mean()\n",
    "print 'Std of derivative price:', prices.std()\n",
    "print \n",
    "print 'Using Antithetic Monte Carlo methods'\n",
    "print 'Mean of derivative price:', prices_at.mean()\n",
    "print 'Std of derivative price:', prices_at.std()\n",
    "\n",
    "\n",
    "# Plot histograms of price distribution\n",
    "plt.hist(prices_at, label='Anthetic MC', color='orange', bins=50)\n",
    "plt.axvline(prices_at.mean(), color='orange', linestyle='solid', linewidth=1.5)\n",
    "plt.hist(prices, label='Traditional MC', color='blue', bins=50, alpha=0.75)\n",
    "plt.axvline(prices.mean(), color='blue', linestyle='dashed', linewidth=1.5)\n",
    "\n",
    "plt.xlabel(\"Derivative's fair value\")\n",
    "plt.ylabel('Amount of simulations')\n",
    "plt.legend()\n",
    "plt.show()"
   ]
  },
  {
   "cell_type": "markdown",
   "metadata": {},
   "source": [
    "Two important points can be obtained from the results:\n",
    "\n",
    "1. Technicaility-wise pricing the derivative using Monte Carlo with antithetic variates greatly decreases the volatility of the results, which was expected as it is the main contribution of the algorithm. You can see this behaviour also from the graph as there are less extreme values and the probability mass is more concentraded in the middle.  \n",
    "\n",
    "2. Pricing-wise OP Pohjola on average is making a profit of 50 euros per contract, since notional amount is 1000 euros. This is because the profits over 1000 euros have discrete outcomes, thus investor's up-side is limited.\n",
    "\n",
    "Personally I found profit of about 5% very small since I was expecting marketing costs, salaries of both sales and trading side, and also transaction costs for later hedging would be much higher. Presumably, huge amount of contracts (13,090) will provide healthy profit. Also since OP Pohjola has other contracts, hedging positions can cancel each other out, thus hedging is needed."
   ]
  },
  {
   "cell_type": "markdown",
   "metadata": {},
   "source": [
    "## Sensitivity analysis\n",
    "\n",
    "Finally here is a sensitivity analysis volatility set at 80%, 100% and 120% of original estimated volatility."
   ]
  },
  {
   "cell_type": "code",
   "execution_count": null,
   "metadata": {
    "collapsed": false
   },
   "outputs": [],
   "source": [
    "sigmas = [0.8*sigma, sigma, 1.2*sigma]\n",
    "prices = np.array([price_derivative(S0, sig, obs_dates, pay_dates, div_dates, div_yield, \n",
    "                                      barrier, fixed_rate, notional_amount, rf, n_sim)[0] for sig in sigmas])\n",
    "data = [prices[i] for i in range(len(sigmas))]\n",
    "\n",
    "labels = ['0.8*Sigma', 'Sigma', '1.2*Sigma']\n",
    "colors = ['#7fcdbb', '#1d91c0', '#253494']\n",
    "\n",
    "plt.hist(data, histtype='bar', label=labels, color=colors)\n",
    "for i in range(len(data)):\n",
    "    plt.axvline(data[i].mean(), color=colors[i], linestyle='dashed', linewidth=2)\n",
    "\n",
    "plt.legend()\n",
    "plt.xlabel(\"Derivative's fair value\")\n",
    "plt.ylabel('Amount of simulations')\n",
    "plt.show()"
   ]
  },
  {
   "cell_type": "markdown",
   "metadata": {
    "collapsed": true
   },
   "source": [
    "The graph tells that the lower the volatility the higher the derivative's fair value and vice versa. Thus one could make an educated guess that OP Pohjola predicts Nokia stock's volatility should be higher in the coming years from the estimated ."
   ]
  }
 ],
 "metadata": {
  "kernelspec": {
   "display_name": "Python 2",
   "language": "python",
   "name": "python2"
  },
  "language_info": {
   "codemirror_mode": {
    "name": "ipython",
    "version": 2
   },
   "file_extension": ".py",
   "mimetype": "text/x-python",
   "name": "python",
   "nbconvert_exporter": "python",
   "pygments_lexer": "ipython2",
   "version": "2.7.13"
  }
 },
 "nbformat": 4,
 "nbformat_minor": 2
}
